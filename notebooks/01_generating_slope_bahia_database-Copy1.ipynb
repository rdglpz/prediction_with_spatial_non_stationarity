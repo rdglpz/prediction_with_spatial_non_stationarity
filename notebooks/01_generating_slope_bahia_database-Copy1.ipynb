{
 "cells": [
  {
   "cell_type": "code",
   "execution_count": 1,
   "id": "1e31b0ba-c77c-4f4c-b9e8-1360ecd44c79",
   "metadata": {},
   "outputs": [],
   "source": [
    "# -*- coding: utf-8 -*-\n",
    "\"\"\"\n",
    "Spyder Editor\n",
    "This is a temporary script file.\n",
    "\"\"\"\n",
    "\n",
    "import os\n",
    "import sys\n",
    "import subprocess\n",
    "\n",
    "import atexit\n",
    "import numpy as np\n",
    "import tempfile\n",
    "from multiprocessing import Process, Queue"
   ]
  },
  {
   "cell_type": "code",
   "execution_count": 2,
   "id": "d64cf84b-ea55-49d0-8691-0e654d62df8b",
   "metadata": {},
   "outputs": [],
   "source": [
    "#gisdb = os.path.join(os.path.expanduser(\"~\"), \"grassData2/FUTURES_triangle\")\n",
    "\n",
    "\n",
    "gisdb = '/cgeo_home/rlopez3'\n",
    "\n",
    "#location = \"futures_ncspm\"\n",
    "\n",
    "location  = \"BrazilREDD\"\n",
    "\n",
    "mapset = \"PERMANENT\"\n",
    "\n",
    "# path to the GRASS GIS launch script\n",
    "# we assume that the GRASS GIS start script is available and on PATH\n",
    "# query GRASS itself for its GISBASE\n",
    "# (with fixes for specific platforms)\n",
    "# needs to be edited by the user"
   ]
  },
  {
   "cell_type": "code",
   "execution_count": 3,
   "id": "7334db31-c769-4071-a7a1-cd4999f701be",
   "metadata": {
    "collapsed": true,
    "jupyter": {
     "outputs_hidden": true
    },
    "tags": []
   },
   "outputs": [
    {
     "name": "stdout",
     "output_type": "stream",
     "text": [
      "Example Calls\n",
      "{'GISDBASE': '/cgeo_home/rlopez3', 'LOCATION_NAME': 'BrazilREDD', 'MAPSET': 'PERMANENT'}\n",
      "BD_indigenous@PERMANENT\n",
      "BR_elevation@PERMANENT\n",
      "BR_landforms@PERMANENT\n",
      "BR_slope@PERMANENT\n",
      "BR_states2@PERMANENT\n",
      "BrazilMask1@PERMANENT\n",
      "Loss8520@PERMANENT\n",
      "MASK@PERMANENT\n",
      "a_loss1985_dist@PERMANENT\n",
      "aloss1985_distance@PERMANENT\n",
      "deforestation_by_state@PERMANENT\n",
      "dist_from_loss1986@PERMANENT\n",
      "loss1985@PERMANENT\n",
      "loss1985_dist@PERMANENT\n",
      "loss1985dist_to_non_forest@PERMANENT\n",
      "loss1986@PERMANENT\n",
      "loss1986_dist@PERMANENT\n",
      "loss1986dist_to_non_forest@PERMANENT\n",
      "loss1987@PERMANENT\n",
      "loss1987_dist@PERMANENT\n",
      "loss1987dist_to_non_forest@PERMANENT\n",
      "loss1988@PERMANENT\n",
      "loss1988_dist@PERMANENT\n",
      "loss1988dist_to_non_forest@PERMANENT\n",
      "loss1989@PERMANENT\n",
      "loss1989_dist@PERMANENT\n",
      "loss1989dist_to_non_forest@PERMANENT\n",
      "loss1990@PERMANENT\n",
      "loss1990_dist@PERMANENT\n",
      "loss1990dist_to_non_forest@PERMANENT\n",
      "loss1991@PERMANENT\n",
      "loss1991_dist@PERMANENT\n",
      "loss1991dist_to_non_forest@PERMANENT\n",
      "loss1992@PERMANENT\n",
      "loss1992_dist@PERMANENT\n",
      "loss1992dist_to_non_forest@PERMANENT\n",
      "loss1993@PERMANENT\n",
      "loss1993_dist@PERMANENT\n",
      "loss1993dist_to_non_forest@PERMANENT\n",
      "loss1994@PERMANENT\n",
      "loss1994_dist@PERMANENT\n",
      "loss1994dist_to_non_forest@PERMANENT\n",
      "loss1995@PERMANENT\n",
      "loss1995_dist@PERMANENT\n",
      "loss1995dist_to_non_forest@PERMANENT\n",
      "loss1996@PERMANENT\n",
      "loss1996_dist@PERMANENT\n",
      "loss1996dist_to_non_forest@PERMANENT\n",
      "loss1997@PERMANENT\n",
      "loss1997_dist@PERMANENT\n",
      "loss1997dist_to_non_forest@PERMANENT\n",
      "loss1998@PERMANENT\n",
      "loss1998_dist@PERMANENT\n",
      "loss1998dist_to_non_forest@PERMANENT\n",
      "loss1999@PERMANENT\n",
      "loss1999_dist@PERMANENT\n",
      "loss1999dist_to_non_forest@PERMANENT\n",
      "loss2000@PERMANENT\n",
      "loss2000_dist@PERMANENT\n",
      "loss2000dist_to_non_forest@PERMANENT\n",
      "loss2001@PERMANENT\n",
      "loss2001_dist@PERMANENT\n",
      "loss2001dist_to_non_forest@PERMANENT\n",
      "loss2002@PERMANENT\n",
      "loss2002_dist@PERMANENT\n",
      "loss2002dist_to_non_forest@PERMANENT\n",
      "loss2003@PERMANENT\n",
      "loss2003_dist@PERMANENT\n",
      "loss2003dist_to_non_forest@PERMANENT\n",
      "loss2004@PERMANENT\n",
      "loss2004_dist@PERMANENT\n",
      "loss2004dist_to_non_forest@PERMANENT\n",
      "loss2005@PERMANENT\n",
      "loss2005_dist@PERMANENT\n",
      "loss2005dist_to_non_forest@PERMANENT\n",
      "loss2006@PERMANENT\n",
      "loss2006_dist@PERMANENT\n",
      "loss2006dist_to_non_forest@PERMANENT\n",
      "loss2007@PERMANENT\n",
      "loss2007_dist@PERMANENT\n",
      "loss2007dist_to_non_forest@PERMANENT\n",
      "loss2008@PERMANENT\n",
      "loss2008_dist@PERMANENT\n",
      "loss2008dist_to_non_forest@PERMANENT\n",
      "loss2009@PERMANENT\n",
      "loss2009_dist@PERMANENT\n",
      "loss2009dist_to_non_forest@PERMANENT\n",
      "loss2010@PERMANENT\n",
      "loss2010_dist@PERMANENT\n",
      "loss2010dist_to_non_forest@PERMANENT\n",
      "loss2011@PERMANENT\n",
      "loss2011_dist@PERMANENT\n",
      "loss2011dist_to_non_forest@PERMANENT\n",
      "loss2012@PERMANENT\n",
      "loss2012_dist@PERMANENT\n",
      "loss2012dist_to_non_forest@PERMANENT\n",
      "loss2013@PERMANENT\n",
      "loss2013_dist@PERMANENT\n",
      "loss2013dist_to_non_forest@PERMANENT\n",
      "loss2014@PERMANENT\n",
      "loss2014_dist@PERMANENT\n",
      "loss2014dist_to_non_forest@PERMANENT\n",
      "loss2015@PERMANENT\n",
      "loss2015_dist@PERMANENT\n",
      "loss2015dist_to_non_forest@PERMANENT\n",
      "loss2016@PERMANENT\n",
      "loss2016_dist@PERMANENT\n",
      "loss2016dist_to_non_forest@PERMANENT\n",
      "loss2017@PERMANENT\n",
      "loss2017_dist@PERMANENT\n",
      "loss2017dist_to_non_forest@PERMANENT\n",
      "loss2018@PERMANENT\n",
      "loss2018_dist@PERMANENT\n",
      "loss2018dist_to_non_forest@PERMANENT\n",
      "loss2019@PERMANENT\n",
      "loss2019_dist@PERMANENT\n",
      "loss2019dist_to_non_forest@PERMANENT\n",
      "loss2020@PERMANENT\n",
      "loss2020_dist@PERMANENT\n",
      "loss2020dist_to_non_forest@PERMANENT\n",
      "loss8586@PERMANENT\n",
      "loss_by_state1985@PERMANENT\n",
      "loss_by_state1986@PERMANENT\n",
      "loss_by_state1987@PERMANENT\n",
      "loss_by_state1988@PERMANENT\n",
      "loss_by_state1989@PERMANENT\n",
      "loss_by_state1990@PERMANENT\n",
      "loss_by_state1991@PERMANENT\n",
      "loss_by_state1992@PERMANENT\n",
      "loss_by_state1993@PERMANENT\n",
      "loss_by_state1994@PERMANENT\n",
      "loss_by_state1995@PERMANENT\n",
      "loss_by_state1996@PERMANENT\n",
      "loss_by_state1997@PERMANENT\n",
      "loss_by_state1998@PERMANENT\n",
      "loss_by_state1999@PERMANENT\n",
      "loss_by_state2000@PERMANENT\n",
      "loss_by_state2001@PERMANENT\n",
      "loss_by_state2002@PERMANENT\n",
      "loss_by_state2003@PERMANENT\n",
      "loss_by_state2004@PERMANENT\n",
      "loss_by_state2005@PERMANENT\n",
      "loss_by_state2006@PERMANENT\n",
      "loss_by_state2007@PERMANENT\n",
      "loss_by_state2008@PERMANENT\n",
      "loss_by_state2009@PERMANENT\n",
      "loss_by_state2010@PERMANENT\n",
      "loss_by_state2011@PERMANENT\n",
      "loss_by_state2012@PERMANENT\n",
      "loss_by_state2013@PERMANENT\n",
      "loss_by_state2014@PERMANENT\n",
      "loss_by_state2015@PERMANENT\n",
      "loss_by_state2016@PERMANENT\n",
      "loss_by_state2017@PERMANENT\n",
      "loss_by_state2018@PERMANENT\n",
      "loss_by_state2019@PERMANENT\n",
      "loss_by_state2020@PERMANENT\n",
      "mask_bahia@PERMANENT\n"
     ]
    },
    {
     "name": "stderr",
     "output_type": "stream",
     "text": [
      "Current GRASS GIS 7 environment:\n",
      "Available raster maps:\n",
      "Available vector maps:\n"
     ]
    }
   ],
   "source": [
    "\n",
    "#devpressure_0_5_92\troad_dens_perc\tforest_1992_smooth_perc\tdist_to_water_km\tdist_to_protected_km\n",
    "\n",
    "# define GRASS Database\n",
    "# add your path to grassdata (GRASS GIS database) directory\n",
    "# specify (existing) Directory, Location and Mapset\n",
    "\n",
    "'''\n",
    "Example locating GrassGisDatabase directory, Grass Location and grass mapset:\n",
    "-------\n",
    "*this is the database grass gis directory where inside is the grass location futures_triange***\n",
    "(base) rodrigo@rodrigo-centromet:~/grassData2/FUTURES_triangle$ ls\n",
    "futures_ncspm  futures_triangle_files\n",
    "The mapsets are found in Futures\n",
    "(base) rodrigo@rodrigo-centromet:~/grassData2/FUTURES_triangle$ ls futures_ncspm/\n",
    "CREDITS.txt  FUTURES_triangle  PERMANENT                  population_trend.csv  VERSION.txt\n",
    "demand.csv   HISTORY.txt       population_projection.csv  practice1\n",
    "'''\n",
    "\n",
    "\n",
    "#gisdb = os.path.join(os.path.expanduser(\"~\"), \"grassData2/FUTURES_triangle\")\n",
    "\n",
    "\n",
    "\n",
    "# path to the GRASS GIS launch script\n",
    "# we assume that the GRASS GIS start script is available and on PATH\n",
    "# query GRASS itself for its GISBASE\n",
    "# (with fixes for specific platforms)\n",
    "# needs to be edited by the user\n",
    "\n",
    "'''\n",
    "Example: finding grass executable file \n",
    "$ locate -b -r ^grass76$\n",
    "/usr/bin/grass76 <--\n",
    "/usr/lib/grass76\n",
    "/usr/share/grass76\n",
    "it can be set using the absolute path if it is not in the path\n",
    "grass7bin = '/usr/bin/grass76'\n",
    "or \n",
    "grass7bin = 'grass76'\n",
    "'''\n",
    "\n",
    "#/usr/bin/grass78\n",
    "\n",
    "#grass7bin = 'grass76'\n",
    "grass7bin = 'grass78'\n",
    "\n",
    "startcmd = [grass7bin, '--config', 'path']\n",
    "\n",
    "try:\n",
    "    p = subprocess.Popen(startcmd, shell=False,\n",
    "                         stdout=subprocess.PIPE, stderr=subprocess.PIPE)\n",
    "    out, err = p.communicate()\n",
    "except OSError as error:\n",
    "    sys.exit(\"ERROR: Cannot find GRASS GIS start script\"\n",
    "             \" {cmd}: {error}\".format(cmd=startcmd[0], error=error))\n",
    "if p.returncode != 0:\n",
    "    sys.exit(\"ERROR: Issues running GRASS GIS start script\"\n",
    "             \" {cmd}: {error}\"\n",
    "             .format(cmd=' '.join(startcmd), error=err))\n",
    "    \n",
    "#gisbase = out.strip(os.linesep)\n",
    "gisbase = str(out).replace(\"\\\\n'\", \"\").replace(\"b'\", \"\")\n",
    "#gisbase = \"/usr/lib/grass78\"\n",
    "\n",
    "\n",
    "# set GISBASE environment variable\n",
    "os.environ['GISBASE'] = gisbase\n",
    "    \n",
    "# define GRASS-Python environment\n",
    "grass_pydir = os.path.join(gisbase, \"etc\", \"python\")\n",
    "sys.path.append(grass_pydir)\n",
    "\n",
    "# import (some) GRASS Python bindings\n",
    "import grass.script as gs\n",
    "from grass.script import core as grass\n",
    "#import grass.script as gs\n",
    "import grass.script.setup as gsetup\n",
    "\n",
    "#https://grasswiki.osgeo.org/wiki/GRASS_Python_Scripting_Library\n",
    "\n",
    "import grass.script.core as gcore\n",
    "import grass.script.raster as grast\n",
    "import grass.script.utils as gutils\n",
    "from grass.exceptions import CalledModuleError\n",
    "\n",
    "\n",
    "#Instalados en python 2\n",
    "from grass.pygrass.modules.shortcuts import raster as r\n",
    "from grass.pygrass.modules import Module\n",
    "\n",
    "# launch session\n",
    "rcfile = gsetup.init(gisbase, gisdb, location, mapset)\n",
    "\n",
    "print(\"Example Calls\")\n",
    "gs.message('Current GRASS GIS 7 environment:')\n",
    "print(gs.gisenv())\n",
    "\n",
    "gs.message('Available raster maps:')\n",
    "for rast in gs.list_strings(type='raster'):\n",
    "    print(rast)\n",
    "\n",
    "gs.message('Available vector maps:')\n",
    "for vect in gs.list_strings(type='vector'):\n",
    "    print(vect)\n",
    "    "
   ]
  },
  {
   "cell_type": "code",
   "execution_count": 4,
   "id": "651411d0-0bfd-4948-acab-4a367a367f8a",
   "metadata": {
    "tags": []
   },
   "outputs": [
    {
     "name": "stdout",
     "output_type": "stream",
     "text": [
      "projection: 99 (Normal Aspect Cylindrical Equal Area)\n",
      "zone:       0\n",
      "datum:      wgs84\n",
      "ellipsoid:  wgs84\n",
      "north:      620000\n",
      "south:      -3668000\n",
      "west:       -7988000\n",
      "east:       -3700000\n",
      "nsres:      1000\n",
      "ewres:      1000\n",
      "rows:       4288\n",
      "cols:       4288\n",
      "cells:      18386944\n",
      "\n"
     ]
    }
   ],
   "source": [
    "gs.run_command('g.region', raster='MASK@PERMANENT')\n",
    "print(gs.read_command('g.region', flags='p'))"
   ]
  },
  {
   "cell_type": "code",
   "execution_count": null,
   "id": "3dff0d82-ab25-452c-92f7-613eca8b9759",
   "metadata": {
    "tags": []
   },
   "outputs": [],
   "source": [
    "#BR_slope@PERMANENT * mask_bahia@PERMANENT "
   ]
  },
  {
   "cell_type": "code",
   "execution_count": 8,
   "id": "a5a0ea1f-8613-4db2-99ca-c3aa123e99b9",
   "metadata": {},
   "outputs": [
    {
     "name": "stdout",
     "output_type": "stream",
     "text": [
      "projection: 99 (Normal Aspect Cylindrical Equal Area)\n",
      "zone:       0\n",
      "datum:      wgs84\n",
      "ellipsoid:  wgs84\n",
      "north:      620000\n",
      "south:      -3668000\n",
      "west:       -7988000\n",
      "east:       -3700000\n",
      "nsres:      1000\n",
      "ewres:      1000\n",
      "rows:       4288\n",
      "cols:       4288\n",
      "cells:      18386944\n",
      "\n"
     ]
    }
   ],
   "source": [
    "gs.run_command('g.region', raster='mask_bahia@PERMANENT')\n",
    "print(gs.read_command('g.region', flags='p'))"
   ]
  },
  {
   "cell_type": "code",
   "execution_count": null,
   "id": "9f596eeb-fba4-44b1-a5a0-c8a470745720",
   "metadata": {},
   "outputs": [],
   "source": []
  },
  {
   "cell_type": "code",
   "execution_count": null,
   "id": "7bb5ae9a-a674-44f5-b0d6-6167a4a07178",
   "metadata": {},
   "outputs": [],
   "source": [
    "#cut slopes map with bahia mask using mapcalc\n",
    "\n",
    "gs.run_command('r.out.xyz', input=s, output=\"bahia_slopes.csv\", separator = \",\")"
   ]
  },
  {
   "cell_type": "code",
   "execution_count": 54,
   "id": "efc42606-a878-4221-8ca0-76cf697f530c",
   "metadata": {
    "collapsed": true,
    "jupyter": {
     "outputs_hidden": true
    },
    "tags": []
   },
   "outputs": [
    {
     "name": "stdout",
     "output_type": "stream",
     "text": [
      "Substituing 0 for nulls\n",
      "MAP loss1985@PERMANENT\n"
     ]
    },
    {
     "name": "stderr",
     "output_type": "stream",
     "text": [
      "   0   2   4   6   8  10  12  14  16  18  20  22  24  26  28  30  32  34  36  38  40  42  44  46  48  50  52  54  56  58  60  62  64  66  68  70  72  74  76  78  80  82  84  86  88  90  92  94  96  98 100\n"
     ]
    },
    {
     "name": "stdout",
     "output_type": "stream",
     "text": [
      "MAP loss1986@PERMANENT\n"
     ]
    },
    {
     "name": "stderr",
     "output_type": "stream",
     "text": [
      "   0   2   4   6   8  10  12  14  16  18  20  22  24  26  28  30  32  34  36  38  40  42  44  46  48  50  52  54  56  58  60  62  64  66  68  70  72  74  76  78  80  82  84  86  88  90  92  94  96  98 100\n"
     ]
    },
    {
     "name": "stdout",
     "output_type": "stream",
     "text": [
      "MAP loss1987@PERMANENT\n"
     ]
    },
    {
     "name": "stderr",
     "output_type": "stream",
     "text": [
      "   0   2   4   6   8  10  12  14  16  18  20  22  24  26  28  30  32  34  36  38  40  42  44  46  48  50  52  54  56  58  60  62  64  66  68  70  72  74  76  78  80  82  84  86  88  90  92  94  96  98 100\n"
     ]
    },
    {
     "name": "stdout",
     "output_type": "stream",
     "text": [
      "MAP loss1988@PERMANENT\n"
     ]
    },
    {
     "name": "stderr",
     "output_type": "stream",
     "text": [
      "   0   2   4   6   8  10  12  14  16  18  20  22  24  26  28  30  32  34  36  38  40  42  44  46  48  50  52  54  56  58  60  62  64  66  68  70  72  74  76  78  80  82  84  86  88  90  92  94  96  98 100\n"
     ]
    },
    {
     "name": "stdout",
     "output_type": "stream",
     "text": [
      "MAP loss1989@PERMANENT\n"
     ]
    },
    {
     "name": "stderr",
     "output_type": "stream",
     "text": [
      "   0   2   4   6   8  10  12  14  16  18  20  22  24  26  28  30  32  34  36  38  40  42  44  46  48  50  52  54  56  58  60  62  64  66  68  70  72  74  76  78  80  82  84  86  88  90  92  94  96  98 100\n"
     ]
    },
    {
     "name": "stdout",
     "output_type": "stream",
     "text": [
      "MAP loss1990@PERMANENT\n"
     ]
    },
    {
     "name": "stderr",
     "output_type": "stream",
     "text": [
      "   0   2   4   6   8  10  12  14  16  18  20  22  24  26  28  30  32  34  36  38  40  42  44  46  48  50  52  54  56  58  60  62  64  66  68  70  72  74  76  78  80  82  84  86  88  90  92  94  96  98 100\n"
     ]
    },
    {
     "name": "stdout",
     "output_type": "stream",
     "text": [
      "MAP loss1991@PERMANENT\n"
     ]
    },
    {
     "name": "stderr",
     "output_type": "stream",
     "text": [
      "   0   2   4   6   8  10  12  14  16  18  20  22  24  26  28  30  32  34  36  38  40  42  44  46  48  50  52  54  56  58  60  62  64  66  68  70  72  74  76  78  80  82  84  86  88  90  92  94  96  98 100\n"
     ]
    },
    {
     "name": "stdout",
     "output_type": "stream",
     "text": [
      "MAP loss1992@PERMANENT\n"
     ]
    },
    {
     "name": "stderr",
     "output_type": "stream",
     "text": [
      "   0   2   4   6   8  10  12  14  16  18  20  22  24  26  28  30  32  34  36  38  40  42  44  46  48  50  52  54  56  58  60  62  64  66  68  70  72  74  76  78  80  82  84  86  88  90  92  94  96  98 100\n"
     ]
    },
    {
     "name": "stdout",
     "output_type": "stream",
     "text": [
      "MAP loss1993@PERMANENT\n"
     ]
    },
    {
     "name": "stderr",
     "output_type": "stream",
     "text": [
      "   0   2   4   6   8  10  12  14  16  18  20  22  24  26  28  30  32  34  36  38  40  42  44  46  48  50  52  54  56  58  60  62  64  66  68  70  72  74  76  78  80  82  84  86  88  90  92  94  96  98 100\n"
     ]
    },
    {
     "name": "stdout",
     "output_type": "stream",
     "text": [
      "MAP loss1994@PERMANENT\n"
     ]
    },
    {
     "name": "stderr",
     "output_type": "stream",
     "text": [
      "   0   2   4   6   8  10  12  14  16  18  20  22  24  26  28  30  32  34  36  38  40  42  44  46  48  50  52  54  56  58  60  62  64  66  68  70  72  74  76  78  80  82  84  86  88  90  92  94  96  98 100\n"
     ]
    },
    {
     "name": "stdout",
     "output_type": "stream",
     "text": [
      "MAP loss1995@PERMANENT\n"
     ]
    },
    {
     "name": "stderr",
     "output_type": "stream",
     "text": [
      "   0   2   4   6   8  10  12  14  16  18  20  22  24  26  28  30  32  34  36  38  40  42  44  46  48  50  52  54  56  58  60  62  64  66  68  70  72  74  76  78  80  82  84  86  88  90  92  94  96  98 100\n"
     ]
    },
    {
     "name": "stdout",
     "output_type": "stream",
     "text": [
      "MAP loss1996@PERMANENT\n"
     ]
    },
    {
     "name": "stderr",
     "output_type": "stream",
     "text": [
      "   0   2   4   6   8  10  12  14  16  18  20  22  24  26  28  30  32  34  36  38  40  42  44  46  48  50  52  54  56  58  60  62  64  66  68  70  72  74  76  78  80  82  84  86  88  90  92  94  96  98 100\n"
     ]
    },
    {
     "name": "stdout",
     "output_type": "stream",
     "text": [
      "MAP loss1997@PERMANENT\n"
     ]
    },
    {
     "name": "stderr",
     "output_type": "stream",
     "text": [
      "   0   2   4   6   8  10  12  14  16  18  20  22  24  26  28  30  32  34  36  38  40  42  44  46  48  50  52  54  56  58  60  62  64  66  68  70  72  74  76  78  80  82  84  86  88  90  92  94  96  98 100\n"
     ]
    },
    {
     "name": "stdout",
     "output_type": "stream",
     "text": [
      "MAP loss1998@PERMANENT\n"
     ]
    },
    {
     "name": "stderr",
     "output_type": "stream",
     "text": [
      "   0   2   4   6   8  10  12  14  16  18  20  22  24  26  28  30  32  34  36  38  40  42  44  46  48  50  52  54  56  58  60  62  64  66  68  70  72  74  76  78  80  82  84  86  88  90  92  94  96  98 100\n"
     ]
    },
    {
     "name": "stdout",
     "output_type": "stream",
     "text": [
      "MAP loss1999@PERMANENT\n"
     ]
    },
    {
     "name": "stderr",
     "output_type": "stream",
     "text": [
      "   0   2   4   6   8  10  12  14  16  18  20  22  24  26  28  30  32  34  36  38  40  42  44  46  48  50  52  54  56  58  60  62  64  66  68  70  72  74  76  78  80  82  84  86  88  90  92  94  96  98 100\n"
     ]
    },
    {
     "name": "stdout",
     "output_type": "stream",
     "text": [
      "MAP loss2000@PERMANENT\n"
     ]
    },
    {
     "name": "stderr",
     "output_type": "stream",
     "text": [
      "   0   2   4   6   8  10  12  14  16  18  20  22  24  26  28  30  32  34  36  38  40  42  44  46  48  50  52  54  56  58  60  62  64  66  68  70  72  74  76  78  80  82  84  86  88  90  92  94  96  98 100\n"
     ]
    },
    {
     "name": "stdout",
     "output_type": "stream",
     "text": [
      "MAP loss2001@PERMANENT\n"
     ]
    },
    {
     "name": "stderr",
     "output_type": "stream",
     "text": [
      "   0   2   4   6   8  10  12  14  16  18  20  22  24  26  28  30  32  34  36  38  40  42  44  46  48  50  52  54  56  58  60  62  64  66  68  70  72  74  76  78  80  82  84  86  88  90  92  94  96  98 100\n"
     ]
    },
    {
     "name": "stdout",
     "output_type": "stream",
     "text": [
      "MAP loss2002@PERMANENT\n"
     ]
    },
    {
     "name": "stderr",
     "output_type": "stream",
     "text": [
      "   0   2   4   6   8  10  12  14  16  18  20  22  24  26  28  30  32  34  36  38  40  42  44  46  48  50  52  54  56  58  60  62  64  66  68  70  72  74  76  78  80  82  84  86  88  90  92  94  96  98 100\n"
     ]
    },
    {
     "name": "stdout",
     "output_type": "stream",
     "text": [
      "MAP loss2003@PERMANENT\n"
     ]
    },
    {
     "name": "stderr",
     "output_type": "stream",
     "text": [
      "   0   2   4   6   8  10  12  14  16  18  20  22  24  26  28  30  32  34  36  38  40  42  44  46  48  50  52  54  56  58  60  62  64  66  68  70  72  74  76  78  80  82  84  86  88  90  92  94  96  98 100\n"
     ]
    },
    {
     "name": "stdout",
     "output_type": "stream",
     "text": [
      "MAP loss2004@PERMANENT\n"
     ]
    },
    {
     "name": "stderr",
     "output_type": "stream",
     "text": [
      "   0   2   4   6   8  10  12  14  16  18  20  22  24  26  28  30  32  34  36  38  40  42  44  46  48  50  52  54  56  58  60  62  64  66  68  70  72  74  76  78  80  82  84  86  88  90  92  94  96  98 100\n"
     ]
    },
    {
     "name": "stdout",
     "output_type": "stream",
     "text": [
      "MAP loss2005@PERMANENT\n"
     ]
    },
    {
     "name": "stderr",
     "output_type": "stream",
     "text": [
      "   0   2   4   6   8  10  12  14  16  18  20  22  24  26  28  30  32  34  36  38  40  42  44  46  48  50  52  54  56  58  60  62  64  66  68  70  72  74  76  78  80  82  84  86  88  90  92  94  96  98 100\n"
     ]
    },
    {
     "name": "stdout",
     "output_type": "stream",
     "text": [
      "MAP loss2006@PERMANENT\n"
     ]
    },
    {
     "name": "stderr",
     "output_type": "stream",
     "text": [
      "   0   2   4   6   8  10  12  14  16  18  20  22  24  26  28  30  32  34  36  38  40  42  44  46  48  50  52  54  56  58  60  62  64  66  68  70  72  74  76  78  80  82  84  86  88  90  92  94  96  98 100\n"
     ]
    },
    {
     "name": "stdout",
     "output_type": "stream",
     "text": [
      "MAP loss2007@PERMANENT\n"
     ]
    },
    {
     "name": "stderr",
     "output_type": "stream",
     "text": [
      "   0   2   4   6   8  10  12  14  16  18  20  22  24  26  28  30  32  34  36  38  40  42  44  46  48  50  52  54  56  58  60  62  64  66  68  70  72  74  76  78  80  82  84  86  88  90  92  94  96  98 100\n"
     ]
    },
    {
     "name": "stdout",
     "output_type": "stream",
     "text": [
      "MAP loss2008@PERMANENT\n"
     ]
    },
    {
     "name": "stderr",
     "output_type": "stream",
     "text": [
      "   0   2   4   6   8  10  12  14  16  18  20  22  24  26  28  30  32  34  36  38  40  42  44  46  48  50  52  54  56  58  60  62  64  66  68  70  72  74  76  78  80  82  84  86  88  90  92  94  96  98 100\n"
     ]
    },
    {
     "name": "stdout",
     "output_type": "stream",
     "text": [
      "MAP loss2009@PERMANENT\n"
     ]
    },
    {
     "name": "stderr",
     "output_type": "stream",
     "text": [
      "   0   2   4   6   8  10  12  14  16  18  20  22  24  26  28  30  32  34  36  38  40  42  44  46  48  50  52  54  56  58  60  62  64  66  68  70  72  74  76  78  80  82  84  86  88  90  92  94  96  98 100\n"
     ]
    },
    {
     "name": "stdout",
     "output_type": "stream",
     "text": [
      "MAP loss2010@PERMANENT\n"
     ]
    },
    {
     "name": "stderr",
     "output_type": "stream",
     "text": [
      "   0   2   4   6   8  10  12  14  16  18  20  22  24  26  28  30  32  34  36  38  40  42  44  46  48  50  52  54  56  58  60  62  64  66  68  70  72  74  76  78  80  82  84  86  88  90  92  94  96  98 100\n"
     ]
    },
    {
     "name": "stdout",
     "output_type": "stream",
     "text": [
      "MAP loss2011@PERMANENT\n"
     ]
    },
    {
     "name": "stderr",
     "output_type": "stream",
     "text": [
      "   0   2   4   6   8  10  12  14  16  18  20  22  24  26  28  30  32  34  36  38  40  42  44  46  48  50  52  54  56  58  60  62  64  66  68  70  72  74  76  78  80  82  84  86  88  90  92  94  96  98 100\n"
     ]
    },
    {
     "name": "stdout",
     "output_type": "stream",
     "text": [
      "MAP loss2012@PERMANENT\n"
     ]
    },
    {
     "name": "stderr",
     "output_type": "stream",
     "text": [
      "   0   2   4   6   8  10  12  14  16  18  20  22  24  26  28  30  32  34  36  38  40  42  44  46  48  50  52  54  56  58  60  62  64  66  68  70  72  74  76  78  80  82  84  86  88  90  92  94  96  98 100\n"
     ]
    },
    {
     "name": "stdout",
     "output_type": "stream",
     "text": [
      "MAP loss2013@PERMANENT\n"
     ]
    },
    {
     "name": "stderr",
     "output_type": "stream",
     "text": [
      "   0   2   4   6   8  10  12  14  16  18  20  22  24  26  28  30  32  34  36  38  40  42  44  46  48  50  52  54  56  58  60  62  64  66  68  70  72  74  76  78  80  82  84  86  88  90  92  94  96  98 100\n"
     ]
    },
    {
     "name": "stdout",
     "output_type": "stream",
     "text": [
      "MAP loss2014@PERMANENT\n"
     ]
    },
    {
     "name": "stderr",
     "output_type": "stream",
     "text": [
      "   0   2   4   6   8  10  12  14  16  18  20  22  24  26  28  30  32  34  36  38  40  42  44  46  48  50  52  54  56  58  60  62  64  66  68  70  72  74  76  78  80  82  84  86  88  90  92  94  96  98 100\n"
     ]
    },
    {
     "name": "stdout",
     "output_type": "stream",
     "text": [
      "MAP loss2015@PERMANENT\n"
     ]
    },
    {
     "name": "stderr",
     "output_type": "stream",
     "text": [
      "   0   2   4   6   8  10  12  14  16  18  20  22  24  26  28  30  32  34  36  38  40  42  44  46  48  50  52  54  56  58  60  62  64  66  68  70  72  74  76  78  80  82  84  86  88  90  92  94  96  98 100\n"
     ]
    },
    {
     "name": "stdout",
     "output_type": "stream",
     "text": [
      "MAP loss2016@PERMANENT\n"
     ]
    },
    {
     "name": "stderr",
     "output_type": "stream",
     "text": [
      "   0   2   4   6   8  10  12  14  16  18  20  22  24  26  28  30  32  34  36  38  40  42  44  46  48  50  52  54  56  58  60  62  64  66  68  70  72  74  76  78  80  82  84  86  88  90  92  94  96  98 100\n"
     ]
    },
    {
     "name": "stdout",
     "output_type": "stream",
     "text": [
      "MAP loss2017@PERMANENT\n"
     ]
    },
    {
     "name": "stderr",
     "output_type": "stream",
     "text": [
      "   0   2   4   6   8  10  12  14  16  18  20  22  24  26  28  30  32  34  36  38  40  42  44  46  48  50  52  54  56  58  60  62  64  66  68  70  72  74  76  78  80  82  84  86  88  90  92  94  96  98 100\n"
     ]
    },
    {
     "name": "stdout",
     "output_type": "stream",
     "text": [
      "MAP loss2018@PERMANENT\n"
     ]
    },
    {
     "name": "stderr",
     "output_type": "stream",
     "text": [
      "   0   2   4   6   8  10  12  14  16  18  20  22  24  26  28  30  32  34  36  38  40  42  44  46  48  50  52  54  56  58  60  62  64  66  68  70  72  74  76  78  80  82  84  86  88  90  92  94  96  98 100\n"
     ]
    },
    {
     "name": "stdout",
     "output_type": "stream",
     "text": [
      "MAP loss2019@PERMANENT\n"
     ]
    },
    {
     "name": "stderr",
     "output_type": "stream",
     "text": [
      "   0   2   4   6   8  10  12  14  16  18  20  22  24  26  28  30  32  34  36  38  40  42  44  46  48  50  52  54  56  58  60  62  64  66  68  70  72  74  76  78  80  82  84  86  88  90  92  94  96  98 100\n"
     ]
    },
    {
     "name": "stdout",
     "output_type": "stream",
     "text": [
      "MAP loss2020@PERMANENT\n"
     ]
    },
    {
     "name": "stderr",
     "output_type": "stream",
     "text": [
      "   0   2   4   6   8  10  12  14  16  18  20  22  24  26  28  30  32  34  36  38  40  42  44  46  48  50  52  54  56  58  60  62  64  66  68  70  72  74  76  78  80  82  84  86  88  90  92  94  96  98 100\n"
     ]
    }
   ],
   "source": [
    "print(\"Substituing 0 for nulls\")\n",
    "for m in forest_loss:\n",
    "    print(\"MAP {n}\".format(n=m))\n",
    "    gs.run_command('r.null',map=m, setnull='0')"
   ]
  },
  {
   "cell_type": "code",
   "execution_count": 56,
   "id": "666cfc85-df84-42ab-8c04-856dea6102c2",
   "metadata": {},
   "outputs": [
    {
     "name": "stderr",
     "output_type": "stream",
     "text": [
      "   0   3   6   9  12  15  18  21  24  27  30  33  36  39  42  45  48  51  54  57  60  63  66  69  72  75  78  81  84  87  90  93  96  99 100\n",
      "Slope raster map <BR_slope> complete\n"
     ]
    },
    {
     "data": {
      "text/plain": [
       "0"
      ]
     },
     "execution_count": 56,
     "metadata": {},
     "output_type": "execute_result"
    }
   ],
   "source": [
    "inp = \"BR_elevation\"\n",
    "output =  \"BR_slope\"\n",
    "gs.run_command('r.slope.aspect',elevation=inp, slope = output,overwrite='True')\n"
   ]
  },
  {
   "cell_type": "code",
   "execution_count": 55,
   "id": "9df530e7-35a2-42c8-9727-5b5bf1863a78",
   "metadata": {
    "collapsed": true,
    "jupyter": {
     "outputs_hidden": true
    },
    "tags": []
   },
   "outputs": [
    {
     "name": "stderr",
     "output_type": "stream",
     "text": [
      "Reading raster map <loss1985@PERMANENT>...\n",
      "   0   3   6   9  12  15  18  21  24  27  30  33  36  39  42  45  48  51  54  57  60  63  66  69  72  75  78  81  84  87  90  93  96  99 100\n",
      "Writing output raster maps...\n",
      "   0   3   6   9  12  15  18  21  24  27  30  33  36  39  42  45  48  51  54  57  60  63  66  69  72  75  78  81  84  87  90  93  96  99 100\n",
      "Reading raster map <loss1986@PERMANENT>...\n",
      "   0   3   6   9  12  15  18  21  24  27  30  33  36  39  42  45  48  51  54  57  60  63  66  69  72  75  78  81  84  87  90  93  96  99 100\n",
      "Writing output raster maps...\n",
      "   0   3   6   9  12  15  18  21  24  27  30  33  36  39  42  45  48  51  54  57  60  63  66  69  72  75  78  81  84  87  90  93  96  99 100\n",
      "Reading raster map <loss1987@PERMANENT>...\n",
      "   0   3   6   9  12  15  18  21  24  27  30  33  36  39  42  45  48  51  54  57  60  63  66  69  72  75  78  81  84  87  90  93  96  99 100\n",
      "Writing output raster maps...\n",
      "   0   3   6   9  12  15  18  21  24  27  30  33  36  39  42  45  48  51  54  57  60  63  66  69  72  75  78  81  84  87  90  93  96  99 100\n",
      "Reading raster map <loss1988@PERMANENT>...\n",
      "   0   3   6   9  12  15  18  21  24  27  30  33  36  39  42  45  48  51  54  57  60  63  66  69  72  75  78  81  84  87  90  93  96  99 100\n",
      "Writing output raster maps...\n",
      "   0   3   6   9  12  15  18  21  24  27  30  33  36  39  42  45  48  51  54  57  60  63  66  69  72  75  78  81  84  87  90  93  96  99 100\n",
      "Reading raster map <loss1989@PERMANENT>...\n",
      "   0   3   6   9  12  15  18  21  24  27  30  33  36  39  42  45  48  51  54  57  60  63  66  69  72  75  78  81  84  87  90  93  96  99 100\n",
      "Writing output raster maps...\n",
      "   0   3   6   9  12  15  18  21  24  27  30  33  36  39  42  45  48  51  54  57  60  63  66  69  72  75  78  81  84  87  90  93  96  99 100\n",
      "Reading raster map <loss1990@PERMANENT>...\n",
      "   0   3   6   9  12  15  18  21  24  27  30  33  36  39  42  45  48  51  54  57  60  63  66  69  72  75  78  81  84  87  90  93  96  99 100\n",
      "Writing output raster maps...\n",
      "   0   3   6   9  12  15  18  21  24  27  30  33  36  39  42  45  48  51  54  57  60  63  66  69  72  75  78  81  84  87  90  93  96  99 100\n",
      "Reading raster map <loss1991@PERMANENT>...\n",
      "   0   3   6   9  12  15  18  21  24  27  30  33  36  39  42  45  48  51  54  57  60  63  66  69  72  75  78  81  84  87  90  93  96  99 100\n",
      "Writing output raster maps...\n",
      "   0   3   6   9  12  15  18  21  24  27  30  33  36  39  42  45  48  51  54  57  60  63  66  69  72  75  78  81  84  87  90  93  96  99 100\n",
      "Reading raster map <loss1992@PERMANENT>...\n",
      "   0   3   6   9  12  15  18  21  24  27  30  33  36  39  42  45  48  51  54  57  60  63  66  69  72  75  78  81  84  87  90  93  96  99 100\n",
      "Writing output raster maps...\n",
      "   0   3   6   9  12  15  18  21  24  27  30  33  36  39  42  45  48  51  54  57  60  63  66  69  72  75  78  81  84  87  90  93  96  99 100\n",
      "Reading raster map <loss1993@PERMANENT>...\n",
      "   0   3   6   9  12  15  18  21  24  27  30  33  36  39  42  45  48  51  54  57  60  63  66  69  72  75  78  81  84  87  90  93  96  99 100\n",
      "Writing output raster maps...\n",
      "   0   3   6   9  12  15  18  21  24  27  30  33  36  39  42  45  48  51  54  57  60  63  66  69  72  75  78  81  84  87  90  93  96  99 100\n",
      "Reading raster map <loss1994@PERMANENT>...\n",
      "   0   3   6   9  12  15  18  21  24  27  30  33  36  39  42  45  48  51  54  57  60  63  66  69  72  75  78  81  84  87  90  93  96  99 100\n",
      "Writing output raster maps...\n",
      "   0   3   6   9  12  15  18  21  24  27  30  33  36  39  42  45  48  51  54  57  60  63  66  69  72  75  78  81  84  87  90  93  96  99 100\n",
      "Reading raster map <loss1995@PERMANENT>...\n",
      "   0   3   6   9  12  15  18  21  24  27  30  33  36  39  42  45  48  51  54  57  60  63  66  69  72  75  78  81  84  87  90  93  96  99 100\n",
      "Writing output raster maps...\n",
      "   0   3   6   9  12  15  18  21  24  27  30  33  36  39  42  45  48  51  54  57  60  63  66  69  72  75  78  81  84  87  90  93  96  99 100\n",
      "Reading raster map <loss1996@PERMANENT>...\n",
      "   0   3   6   9  12  15  18  21  24  27  30  33  36  39  42  45  48  51  54  57  60  63  66  69  72  75  78  81  84  87  90  93  96  99 100\n",
      "Writing output raster maps...\n",
      "   0   3   6   9  12  15  18  21  24  27  30  33  36  39  42  45  48  51  54  57  60  63  66  69  72  75  78  81  84  87  90  93  96  99 100\n",
      "Reading raster map <loss1997@PERMANENT>...\n",
      "   0   3   6   9  12  15  18  21  24  27  30  33  36  39  42  45  48  51  54  57  60  63  66  69  72  75  78  81  84  87  90  93  96  99 100\n",
      "Writing output raster maps...\n",
      "   0   3   6   9  12  15  18  21  24  27  30  33  36  39  42  45  48  51  54  57  60  63  66  69  72  75  78  81  84  87  90  93  96  99 100\n",
      "Reading raster map <loss1998@PERMANENT>...\n",
      "   0   3   6   9  12  15  18  21  24  27  30  33  36  39  42  45  48  51  54  57  60  63  66  69  72  75  78  81  84  87  90  93  96  99 100\n",
      "Writing output raster maps...\n",
      "   0   3   6   9  12  15  18  21  24  27  30  33  36  39  42  45  48  51  54  57  60  63  66  69  72  75  78  81  84  87  90  93  96  99 100\n",
      "Reading raster map <loss1999@PERMANENT>...\n",
      "   0   3   6   9  12  15  18  21  24  27  30  33  36  39  42  45  48  51  54  57  60  63  66  69  72  75  78  81  84  87  90  93  96  99 100\n",
      "Writing output raster maps...\n",
      "   0   3   6   9  12  15  18  21  24  27  30  33  36  39  42  45  48  51  54  57  60  63  66  69  72  75  78  81  84  87  90  93  96  99 100\n",
      "Reading raster map <loss2000@PERMANENT>...\n",
      "   0   3   6   9  12  15  18  21  24  27  30  33  36  39  42  45  48  51  54  57  60  63  66  69  72  75  78  81  84  87  90  93  96  99 100\n",
      "Writing output raster maps...\n",
      "   0   3   6   9  12  15  18  21  24  27  30  33  36  39  42  45  48  51  54  57  60  63  66  69  72  75  78  81  84  87  90  93  96  99 100\n",
      "Reading raster map <loss2001@PERMANENT>...\n",
      "   0   3   6   9  12  15  18  21  24  27  30  33  36  39  42  45  48  51  54  57  60  63  66  69  72  75  78  81  84  87  90  93  96  99 100\n",
      "Writing output raster maps...\n",
      "   0   3   6   9  12  15  18  21  24  27  30  33  36  39  42  45  48  51  54  57  60  63  66  69  72  75  78  81  84  87  90  93  96  99 100\n",
      "Reading raster map <loss2002@PERMANENT>...\n",
      "   0   3   6   9  12  15  18  21  24  27  30  33  36  39  42  45  48  51  54  57  60  63  66  69  72  75  78  81  84  87  90  93  96  99 100\n",
      "Writing output raster maps...\n",
      "   0   3   6   9  12  15  18  21  24  27  30  33  36  39  42  45  48  51  54  57  60  63  66  69  72  75  78  81  84  87  90  93  96  99 100\n",
      "Reading raster map <loss2003@PERMANENT>...\n",
      "   0   3   6   9  12  15  18  21  24  27  30  33  36  39  42  45  48  51  54  57  60  63  66  69  72  75  78  81  84  87  90  93  96  99 100\n",
      "Writing output raster maps...\n",
      "   0   3   6   9  12  15  18  21  24  27  30  33  36  39  42  45  48  51  54  57  60  63  66  69  72  75  78  81  84  87  90  93  96  99 100\n",
      "Reading raster map <loss2004@PERMANENT>...\n",
      "   0   3   6   9  12  15  18  21  24  27  30  33  36  39  42  45  48  51  54  57  60  63  66  69  72  75  78  81  84  87  90  93  96  99 100\n",
      "Writing output raster maps...\n",
      "   0   3   6   9  12  15  18  21  24  27  30  33  36  39  42  45  48  51  54  57  60  63  66  69  72  75  78  81  84  87  90  93  96  99 100\n",
      "Reading raster map <loss2005@PERMANENT>...\n",
      "   0   3   6   9  12  15  18  21  24  27  30  33  36  39  42  45  48  51  54  57  60  63  66  69  72  75  78  81  84  87  90  93  96  99 100\n",
      "Writing output raster maps...\n",
      "   0   3   6   9  12  15  18  21  24  27  30  33  36  39  42  45  48  51  54  57  60  63  66  69  72  75  78  81  84  87  90  93  96  99 100\n",
      "Reading raster map <loss2006@PERMANENT>...\n",
      "   0   3   6   9  12  15  18  21  24  27  30  33  36  39  42  45  48  51  54  57  60  63  66  69  72  75  78  81  84  87  90  93  96  99 100\n",
      "Writing output raster maps...\n",
      "   0   3   6   9  12  15  18  21  24  27  30  33  36  39  42  45  48  51  54  57  60  63  66  69  72  75  78  81  84  87  90  93  96  99 100\n",
      "Reading raster map <loss2007@PERMANENT>...\n",
      "   0   3   6   9  12  15  18  21  24  27  30  33  36  39  42  45  48  51  54  57  60  63  66  69  72  75  78  81  84  87  90  93  96  99 100\n",
      "Writing output raster maps...\n",
      "   0   3   6   9  12  15  18  21  24  27  30  33  36  39  42  45  48  51  54  57  60  63  66  69  72  75  78  81  84  87  90  93  96  99 100\n",
      "Reading raster map <loss2008@PERMANENT>...\n",
      "   0   3   6   9  12  15  18  21  24  27  30  33  36  39  42  45  48  51  54  57  60  63  66  69  72  75  78  81  84  87  90  93  96  99 100\n",
      "Writing output raster maps...\n",
      "   0   3   6   9  12  15  18  21  24  27  30  33  36  39  42  45  48  51  54  57  60  63  66  69  72  75  78  81  84  87  90  93  96  99 100\n",
      "Reading raster map <loss2009@PERMANENT>...\n",
      "   0   3   6   9  12  15  18  21  24  27  30  33  36  39  42  45  48  51  54  57  60  63  66  69  72  75  78  81  84  87  90  93  96  99 100\n",
      "Writing output raster maps...\n",
      "   0   3   6   9  12  15  18  21  24  27  30  33  36  39  42  45  48  51  54  57  60  63  66  69  72  75  78  81  84  87  90  93  96  99 100\n",
      "Reading raster map <loss2010@PERMANENT>...\n",
      "   0   3   6   9  12  15  18  21  24  27  30  33  36  39  42  45  48  51  54  57  60  63  66  69  72  75  78  81  84  87  90  93  96  99 100\n",
      "Writing output raster maps...\n",
      "   0   3   6   9  12  15  18  21  24  27  30  33  36  39  42  45  48  51  54  57  60  63  66  69  72  75  78  81  84  87  90  93  96  99 100\n",
      "Reading raster map <loss2011@PERMANENT>...\n",
      "   0   3   6   9  12  15  18  21  24  27  30  33  36  39  42  45  48  51  54  57  60  63  66  69  72  75  78  81  84  87  90  93  96  99 100\n",
      "Writing output raster maps...\n",
      "   0   3   6   9  12  15  18  21  24  27  30  33  36  39  42  45  48  51  54  57  60  63  66  69  72  75  78  81  84  87  90  93  96  99 100\n",
      "Reading raster map <loss2012@PERMANENT>...\n",
      "   0   3   6   9  12  15  18  21  24  27  30  33  36  39  42  45  48  51  54  57  60  63  66  69  72  75  78  81  84  87  90  93  96  99 100\n",
      "Writing output raster maps...\n",
      "   0   3   6   9  12  15  18  21  24  27  30  33  36  39  42  45  48  51  54  57  60  63  66  69  72  75  78  81  84  87  90  93  96  99 100\n",
      "Reading raster map <loss2013@PERMANENT>...\n",
      "   0   3   6   9  12  15  18  21  24  27  30  33  36  39  42  45  48  51  54  57  60  63  66  69  72  75  78  81  84  87  90  93  96  99 100\n",
      "Writing output raster maps...\n",
      "   0   3   6   9  12  15  18  21  24  27  30  33  36  39  42  45  48  51  54  57  60  63  66  69  72  75  78  81  84  87  90  93  96  99 100\n",
      "Reading raster map <loss2014@PERMANENT>...\n",
      "   0   3   6   9  12  15  18  21  24  27  30  33  36  39  42  45  48  51  54  57  60  63  66  69  72  75  78  81  84  87  90  93  96  99 100\n",
      "Writing output raster maps...\n",
      "   0   3   6   9  12  15  18  21  24  27  30  33  36  39  42  45  48  51  54  57  60  63  66  69  72  75  78  81  84  87  90  93  96  99 100\n",
      "Reading raster map <loss2015@PERMANENT>...\n",
      "   0   3   6   9  12  15  18  21  24  27  30  33  36  39  42  45  48  51  54  57  60  63  66  69  72  75  78  81  84  87  90  93  96  99 100\n",
      "Writing output raster maps...\n",
      "   0   3   6   9  12  15  18  21  24  27  30  33  36  39  42  45  48  51  54  57  60  63  66  69  72  75  78  81  84  87  90  93  96  99 100\n",
      "Reading raster map <loss2016@PERMANENT>...\n",
      "   0   3   6   9  12  15  18  21  24  27  30  33  36  39  42  45  48  51  54  57  60  63  66  69  72  75  78  81  84  87  90  93  96  99 100\n",
      "Writing output raster maps...\n",
      "   0   3   6   9  12  15  18  21  24  27  30  33  36  39  42  45  48  51  54  57  60  63  66  69  72  75  78  81  84  87  90  93  96  99 100\n",
      "Reading raster map <loss2017@PERMANENT>...\n",
      "   0   3   6   9  12  15  18  21  24  27  30  33  36  39  42  45  48  51  54  57  60  63  66  69  72  75  78  81  84  87  90  93  96  99 100\n",
      "Writing output raster maps...\n",
      "   0   3   6   9  12  15  18  21  24  27  30  33  36  39  42  45  48  51  54  57  60  63  66  69  72  75  78  81  84  87  90  93  96  99 100\n",
      "Reading raster map <loss2018@PERMANENT>...\n",
      "   0   3   6   9  12  15  18  21  24  27  30  33  36  39  42  45  48  51  54  57  60  63  66  69  72  75  78  81  84  87  90  93  96  99 100\n",
      "Writing output raster maps...\n",
      "   0   3   6   9  12  15  18  21  24  27  30  33  36  39  42  45  48  51  54  57  60  63  66  69  72  75  78  81  84  87  90  93  96  99 100\n",
      "Reading raster map <loss2019@PERMANENT>...\n",
      "   0   3   6   9  12  15  18  21  24  27  30  33  36  39  42  45  48  51  54  57  60  63  66  69  72  75  78  81  84  87  90  93  96  99 100\n",
      "Writing output raster maps...\n",
      "   0   3   6   9  12  15  18  21  24  27  30  33  36  39  42  45  48  51  54  57  60  63  66  69  72  75  78  81  84  87  90  93  96  99 100\n",
      "Reading raster map <loss2020@PERMANENT>...\n",
      "   0   3   6   9  12  15  18  21  24  27  30  33  36  39  42  45  48  51  54  57  60  63  66  69  72  75  78  81  84  87  90  93  96  99 100\n",
      "Writing output raster maps...\n",
      "   0   3   6   9  12  15  18  21  24  27  30  33  36  39  42  45  48  51  54  57  60  63  66  69  72  75  78  81  84  87  90  93  96  99 100\n"
     ]
    }
   ],
   "source": [
    "for m in forest_loss:\n",
    "    n = m[:8]+\"_\"+\"dist\"\n",
    "    gs.run_command('r.grow.distance', input = m, distance = n, overwrite = 'True')\n",
    "    "
   ]
  },
  {
   "cell_type": "markdown",
   "id": "362a68d7-980b-46b7-8fb5-4a413a061c73",
   "metadata": {
    "tags": []
   },
   "source": [
    "Exporting distance to non forest"
   ]
  },
  {
   "cell_type": "code",
   "execution_count": 57,
   "id": "d480a4ef-0712-4d45-aef6-0424863fc18b",
   "metadata": {
    "tags": []
   },
   "outputs": [
    {
     "name": "stdout",
     "output_type": "stream",
     "text": [
      "projection: 99 (Normal Aspect Cylindrical Equal Area)\n",
      "zone:       0\n",
      "datum:      wgs84\n",
      "ellipsoid:  wgs84\n",
      "north:      620000\n",
      "south:      -3668000\n",
      "west:       -7988000\n",
      "east:       -3700000\n",
      "nsres:      1000\n",
      "ewres:      1000\n",
      "rows:       4288\n",
      "cols:       4288\n",
      "cells:      18386944\n",
      "\n"
     ]
    }
   ],
   "source": []
  },
  {
   "cell_type": "code",
   "execution_count": null,
   "id": "ff631b38-a878-4abd-aef0-f3aa93245b0a",
   "metadata": {},
   "outputs": [],
   "source": []
  },
  {
   "cell_type": "code",
   "execution_count": 80,
   "id": "6e8a0d03-bc87-42fc-ac70-fb74bc890f1d",
   "metadata": {
    "tags": []
   },
   "outputs": [
    {
     "data": {
      "text/plain": [
       "'loss1985_dist@PERMANENT,loss1986_dist@PERMANENT,loss1987_dist@PERMANENT,loss1988_dist@PERMANENT,loss1989_dist@PERMANENT,loss1990_dist@PERMANENT,loss1991_dist@PERMANENT,loss1992_dist@PERMANENT,loss1993_dist@PERMANENT,loss1994_dist@PERMANENT,loss1995_dist@PERMANENT,loss1996_dist@PERMANENT,loss1997_dist@PERMANENT,loss1998_dist@PERMANENT,loss1999_dist@PERMANENT,loss2000_dist@PERMANENT,loss2001_dist@PERMANENT,loss2002_dist@PERMANENT,loss2003_dist@PERMANENT,loss2004_dist@PERMANENT,loss2005_dist@PERMANENT,loss2006_dist@PERMANENT,loss2007_dist@PERMANENT,loss2008_dist@PERMANENT,loss2009_dist@PERMANENT,loss2010_dist@PERMANENT,loss2011_dist@PERMANENT,loss2012_dist@PERMANENT,loss2013_dist@PERMANENT,loss2014_dist@PERMANENT,loss2015_dist@PERMANENT,loss2016_dist@PERMANENT,loss2017_dist@PERMANENT,loss2018_dist@PERMANENT,loss2019_dist@PERMANENT,loss2020_dist@PERMANENT,BR_slope@PERMANENT,BR_elevation@PERMANENT,BR_landforms@PERMANENT'"
      ]
     },
     "execution_count": 80,
     "metadata": {},
     "output_type": "execute_result"
    }
   ],
   "source": [
    "s = forest_loss[0][:8]+\"_\"+\"dist\"+\"@PERMANENT\"\n",
    "for m in forest_loss[1:]:\n",
    "    n = m[:8]+\"_\"+\"dist\"+\"@PERMANENT\"\n",
    "    s = s+','+n\n",
    "\n",
    "s = s+','+ \"BR_slope@PERMANENT,BR_elevation@PERMANENT,BR_landforms@PERMANENT\"\n",
    "\n",
    "s"
   ]
  },
  {
   "cell_type": "code",
   "execution_count": 82,
   "id": "d69fd2a1-ba60-4922-843b-642598a792d0",
   "metadata": {},
   "outputs": [
    {
     "name": "stderr",
     "output_type": "stream",
     "text": [
      "   0   3   6   9  12  15  18  21  24  27  30  33  36  39  42  45  48  51  54  57  60  63  66  69  72  75  78  81  84  87  90  93  96  99 100\n"
     ]
    },
    {
     "data": {
      "text/plain": [
       "0"
      ]
     },
     "execution_count": 82,
     "metadata": {},
     "output_type": "execute_result"
    }
   ],
   "source": [
    "gs.run_command('r.out.xyz', input=s, output=\"bahia_loss1985_2020.csv\", separator = \",\")"
   ]
  },
  {
   "cell_type": "code",
   "execution_count": 83,
   "id": "0f56383d-ce58-4516-b4af-3aca22271224",
   "metadata": {},
   "outputs": [
    {
     "data": {
      "text/plain": [
       "35"
      ]
     },
     "execution_count": 83,
     "metadata": {},
     "output_type": "execute_result"
    }
   ],
   "source": [
    "2020-1985"
   ]
  },
  {
   "cell_type": "code",
   "execution_count": 52,
   "id": "ec015d18-5289-4d90-a36b-c7e1ecf4344a",
   "metadata": {},
   "outputs": [
    {
     "data": {
      "text/plain": [
       "'loss2020-dist'"
      ]
     },
     "execution_count": 52,
     "metadata": {},
     "output_type": "execute_result"
    }
   ],
   "source": [
    "#g.region raster=elev_lid792_1m -p\n",
    "#r.out.xyz input=elev_lid792_1m output=elev_lid792_1m.csv separator=\",\""
   ]
  },
  {
   "cell_type": "code",
   "execution_count": null,
   "id": "0e3eb6d5-2c6f-474b-b734-fb13e157ddec",
   "metadata": {},
   "outputs": [],
   "source": []
  },
  {
   "cell_type": "code",
   "execution_count": 44,
   "id": "f7aeb69d-7d94-4fa0-b047-777990a8e52a",
   "metadata": {},
   "outputs": [
    {
     "data": {
      "text/plain": [
       "'dit_to_non_foresta'"
      ]
     },
     "execution_count": 44,
     "metadata": {},
     "output_type": "execute_result"
    }
   ],
   "source": [
    "\"dit_to_non_forest_\"+\"a\""
   ]
  },
  {
   "cell_type": "code",
   "execution_count": null,
   "id": "774412cc-630a-4fde-a840-4ca2ea598fc9",
   "metadata": {},
   "outputs": [],
   "source": [
    "gs.run_command('r.grow.distance', input = protected, distance='dist_to_protected', overwrite = 'True')"
   ]
  },
  {
   "cell_type": "code",
   "execution_count": null,
   "id": "9885d3c0-e665-45d7-aa07-ca75c2b3e48d",
   "metadata": {},
   "outputs": [],
   "source": [
    "\n",
    "\n",
    "\n",
    "    \n",
    "'''\n",
    "Reference:\n",
    "----------\n",
    "https://grass.osgeo.org/grass76/manuals/libpython/script.html#module-script.setup\n",
    "'''\n",
    "r.calib = Module('r.futures.calib')\n",
    " \n",
    " #g.region raster=landuse_2011 -\n",
    "#g.region(res=\"1\", flags=\"p\", **compregion)\n",
    " \n",
    " #https://linuxize.com/post/how-to-install-pip-on-ubuntu-18.04/\n",
    "#gscript.region(res=\"1\", flags=\"p\", \"landuse_2011\")\n",
    "gs.run_command('g.region', raster='landuse_2011')\n",
    "print(gs.read_command('g.region', flags='p'))\n",
    "\n",
    "'''\n",
    "v.to.rast input=protected_areas output=protected_areas use=val\n",
    "r.null map=protected_areas null=0\n",
    "'''\n",
    "\n",
    "gs.run_command('v.to.rast', input='protected_areas', output='protected_areas', use='val',overwrite ='True')\n",
    "gs.run_command('r.null',map='protected_areas',null='0')\n",
    "\n",
    "#r.mapcalc \"urban_1992 = if(landuse_1992 >= 21 && landuse_1992 <= 24, 1, if(landuse_1992 == 11 || landuse_1992 >= 90 || protected_areas, null(), 0))\"\n",
    "#r.mapcalc \"urban_2001 = if(landuse_2001 >= 21 && landuse_2001 <= 24, 1, if(landuse_2001 == 11 || landuse_2001 >= 90 || protected_areas, null(), 0))\"\n",
    "#r.mapcalc \"urban_2006 = if(landuse_2006 >= 21 && landuse_2006 <= 24, 1, if(landuse_2006 == 11 || landuse_2006 >= 90 || protected_areas, null(), 0))\"\n",
    "#r.mapcalc \"urban_2011 = if(landuse_2011 >= 21 && landuse_2011 <= 24, 1, if(landuse_2011 == 11 || landuse_2011 >= 90 || protected_areas, null(), 0))\"\n",
    "\n",
    "\n",
    "rast_out_1992 = \"urban_1992\"\n",
    "rast_out_2001 = \"urban_2001\"\n",
    "rast_out_2006 = \"urban_2006\"\n",
    "rast_out_2011 = \"urban_2011\"\n",
    "protected = \"protected_areas\"\n",
    "\n",
    "rast_in_landuse_1992 = \"landuse_1992\"\n",
    "rast_in_landuse_2001 = \"landuse_2001\"\n",
    "rast_in_landuse_2006 = \"landuse_2006\"\n",
    "rast_in_landuse_2011 = \"landuse_2011\"\n",
    "\n",
    "counties = \"counties\"\n",
    "\n",
    "\n",
    "gs.mapcalc(\"${out} = if(${rast1} >= 21 && ${rast1} <= 24, 1, if(${rast1} == 11 || ${rast1} >= 90 || ${rast2}, null(), 0))\", out = rast_out_1992, rast1 = rast_in_landuse_1992,rast2 = protected,overwrite = \"True\")\n",
    "gs.mapcalc(\"${out} = if(${rast1} >= 21 && ${rast1} <= 24, 1, if(${rast1} == 11 || ${rast1} >= 90 || ${rast2}, null(), 0))\", out = rast_out_2001, rast1 = rast_in_landuse_2001,rast2 = protected,overwrite = \"True\")\n",
    "gs.mapcalc(\"${out} = if(${rast1} >= 21 && ${rast1} <= 24, 1, if(${rast1} == 11 || ${rast1} >= 90 || ${rast2}, null(), 0))\", out = rast_out_2006, rast1 = rast_in_landuse_2006,rast2 = protected,overwrite = \"True\")\n",
    "gs.mapcalc(\"${out} = if(${rast1} >= 21 && ${rast1} <= 24, 1, if(${rast1} == 11 || ${rast1} >= 90 || ${rast2}, null(), 0))\", out = rast_out_2011, rast1 = rast_in_landuse_2011,rast2 = protected,overwrite = \"True\")\n",
    "\n",
    "#v.to.rast input=counties type=area use=attr attribute_column=FIPS output=counties\n",
    "\n",
    "gs.run_command('v.to.rast', input=counties,type = \"area\", use = 'attr',attribute_column=\"FIPS\", output=counties,overwrite ='True')\n",
    "\n",
    "input = 'elevation_30m'\n",
    "output = 'slope'\n",
    "\n",
    "#r.slope.aspect elevation=elevation_30m slope=slope\n",
    "\n",
    "gs.run_command('r.slope.aspect',elevation=input, slope = output,overwrite='True')\n",
    "\n",
    "#Distance from protected areas\n",
    "\n",
    "'''\n",
    "r.null map=protected_areas setnull=0\n",
    "r.grow.distance input=protected_areas distance=dist_to_protected\n",
    "r.colors map=dist_to_protected color=gyr\n",
    "'''\n",
    "\n",
    "gs.run_command('r.null',map=protected, setnull=0,overwrite = 'True')\n",
    "\n",
    "gs.run_command('r.grow.distance', input = protected, distance='dist_to_protected', overwrite = 'True')\n",
    "\n",
    "gs.run_command('r.grow.distance', input = \"water_nc\", distance='dist_to_water', overwrite = 'True')\n",
    "\n",
    "gs.run_command('r.colors', map = 'dist_to_protected', color='gyr', overwrite = 'True')\n",
    "\n",
    "\n",
    "\n",
    "#Dist to interchanges\n",
    "\n",
    "'''\n",
    "v.to.rast input=roads type=line where=\"MTFCC = 'S1630'\" output=interchanges use=val\n",
    "r.grow.distance -m input=interchanges distance=dist_interchanges\n",
    "'''\n",
    "\n",
    "gs.run_command('v.to.rast',input='roads', type='line', where=\"MTFCC = 'S1630'\", output = 'interchanges', use = 'val',overwrite = \"True\")\n",
    "\n",
    "\n",
    "gs.run_command('r.grow.distance', input='interchanges',distance='dist_interchanges',flags = 'm',overwrite = \"True\")\n",
    "\n",
    "#Forests\n",
    "\n",
    "'''\n",
    "r.mapcalc \"forest = if(landuse_2011 >= 41 && landuse_2011 <= 43, 1, 0)\"\n",
    "r.mapcalc \"forest_1992 = if(landuse_1992 >= 41 && landuse_1992 <= 43, 1, 0)\"\n",
    "r.neighbors -c input=forest output=forest_smooth size=15 method=average\n",
    "r.neighbors -c input=forest_1992 output=forest_1992_smooth size=15 method=average\n",
    "r.colors map=forest_smooth,forest_1992_smooth color=ndvi\n",
    "'''\n",
    "\n",
    "gs.mapcalc('forest = if(landuse_2011 >= 41 && landuse_2011 <= 43, 1, 0)', overwrite='True')\n",
    "\n",
    "gs.mapcalc('forest_1992 = if(landuse_1992 >= 41 && landuse_1992 <= 43, 1, 0)' , overwrite='True')\n",
    "\n",
    "\n",
    "\n",
    "gs.run_command('r.neighbors', input='forest',output='forest_smooth', size='15', method='average', flags = 'c', overwrite = 'True')\n",
    "\n",
    "gs.run_command('r.neighbors', input='forest_1992',output='forest_1992_smooth', size='15', method='average', flags = 'c', overwrite = 'True')\n",
    "\n",
    "gs.run_command('r.colors', map = 'forest_smooth', color = 'ndvi')\n",
    "\n",
    "gs.run_command('r.colors', map = 'forest_1992_smooth', color = 'ndvi')\n",
    "\n",
    "#Road density\n",
    "\n",
    "'''\n",
    "v.to.rast input=roads output=roads use=val type=line\n",
    "r.null map=roads null=0\n",
    "r.neighbors -c input=roads output=road_dens size=25 method=average\n",
    "'''\n",
    "\n",
    "gs.run_command('v.to.rast',input = 'roads',output='roads', use = 'val', type= 'line', overwrite = 'True')\n",
    "\n",
    "gs.run_command('r.null', map = 'roads', null='0', overwrite = 'True')\n",
    "\n",
    "gs.run_command('r.neighbors', input = 'roads', output='road_dens', size = '25', method = 'average', flags = 'c', overwrite = 'True')\n",
    "\n",
    "#https://grasswiki.osgeo.org/wiki/Workshop_on_urban_growth_modeling_with_FUTURES\n",
    "\n",
    "# https://ncsu-geoforall-lab.github.io/uav-lidar-analytics-course/assignments/python_intro.html\n",
    "#Lakesand rivers\n",
    "\n",
    "# time to cities\n",
    "\n",
    "#dev pressure\n",
    "gs.run_command('r.futures.devpressure', input = 'urban_1992', output = 'devpressure_0_5_92',method = 'gravity', size = '30', gamma = '0.5', scaling_factor='0.1', flags = 'n', overwrite='True')\n",
    "\n",
    "\n",
    "gs.run_command('v.db.addcolumn',map='roadsc',columns=\"speed double precision\", overwrite='True')\n",
    "\n",
    "gs.run_command('v.db.update',map='roadsc',column=\"speed\", value=50,where=\"MTFCC = 'S1100'\" , overwrite='True')\n",
    "gs.run_command('v.db.update',map='roadsc',column=\"speed\", value=100,where=\"MTFCC = 'S1200'\" , overwrite='True')\n",
    "gs.run_command('v.db.update',map='roadsc',column=\"speed\", value=100,where=\"MTFCC = 'S1400'\" , overwrite='True')\n",
    "'''\n",
    " Attribute MTFCC \tspeed [km/h]\n",
    "S1400 \t50\n",
    "S1100 \t100\n",
    "S1200 \t100 \n",
    "'''\n",
    "\n",
    "#v.db.update map=myroads column=speed value=50 where=\"MTFCC = 'S1400'\"\n",
    "\n",
    "#v.db.update map=myroads column=speed value=50 where=\"MTFCC = 'S1400'\"\n",
    "\n",
    "\n",
    "#v.db.update map=roadsc column=speed value=100 where=\"MTFCC IN ('S1100', 'S1200')\"\n",
    "\n",
    "#\n",
    "#devpressure_0_5_92\n",
    "#road_dens_perc\n",
    "#forest_1992_smooth_perc\t\n",
    "#dist_to_water_km\n",
    "#dist_to_protected_km\n",
    "\n",
    "gs.run_command(\"v.to.rast\",input='roadsc', type='line', where = \"MTFCC IN ('S1100', 'S1200', 'S1400')\", output='roads_speed', use='attr', attribute_column='speed',overwrite=True)\n",
    "#                v.to.rast input=roadsc type=line where=\"MTFCC IN ('S1100', 'S1200', 'S1400')\" output=roads_speed use=attr attribute_column=speed\n",
    "\n",
    "\n",
    "\n",
    "\n",
    "\n",
    "gs.mapcalc(\"dist_to_water_km = dist_to_water / 1000\",overwrite='True')\n",
    "gs.mapcalc(\"dist_to_protected_km = dist_to_protected / 1000\",overwrite='True')\n",
    "gs.mapcalc(\"dist_to_interchanges_km = dist_interchanges / 1000\",overwrite='True')\n",
    "gs.mapcalc(\"road_dens_perc = road_dens * 100\",overwrite='True')\n",
    "gs.mapcalc(\"forest_smooth_perc = forest_smooth * 100\",overwrite='True')\n",
    "\n",
    "gs.run_command(\"r.null\", map = \"roads_speed\", null = \"5\", overwrite = \"True\")\n",
    "gs.mapcalc(\"roads_travel_time = 1.8 / roads_speed\", overwrite = \"True\")\n",
    "\n",
    "gs.mapcalc(\"urban_2011_clip = if(counties, urban_2011)\", overwrite = 'True')\n",
    "\n",
    "gs.run_command(\"r.report\", map = \"urban_2001\", units = \"h,c,p\", output = \"report.txt\", overwrite =  'True')\n",
    "\n",
    "\n",
    "gs.run_command(\"r.futures.devpressure\", flags = \"n\", input=\"urban_2011\", output='devpressure_0_5', method = 'gravity', size = \"30\", gamma = '0.5', scaling_factor = \"0.1\", overwrite = 'True')\n",
    "\n",
    "'''\n",
    "r.futures.devpressure -n input=urban_2011 output=devpressure_0_5 method=gravity size=30 gamma=0.5 scaling_factor=0.1\n",
    "r.sample.category input=urban_2011_clip output=sampling sampled=counties,devpressure_0_5,devpressure_1,slope,road_dens_perc,forest_smooth_perc,dist_to_water_km,dist_to_protected_km,dist_interchanges_km,travel_time_cities npoints=10000,2000\n",
    "'''\n",
    "\n",
    "gs.mapcalc(\"urban_2011_clip = if(counties, urban_2011)\", overwrite = 'True')\n",
    "\n",
    "\n",
    "#r.sample.category input=urban_2011_clip output=sampling sampled=counties,devpressure_0_5,slope,road_dens_perc,forest_smooth_perc,dist_to_water_km,dist_to_protected_km,dist_to_interchanges_km,travel_time_cities npoints=10000,2000 --o\n",
    "#r.futures.potential  input=sampling output=potential.csv columns=devpressure_0_5,slope,forest_smooth_perc,dist_to_interchanges_km,travel_time_cities developed_column=urban_2011_clip subregions_column=counties --o\n",
    "gs.run_command(\"r.sample.category\",output=\"sampling\", input=\"urban_2011_clip\",sampled = \"counties,devpressure_0_5,slope,road_dens_perc,forest_smooth_perc,dist_to_water_km,dist_to_protected_km,dist_to_interchanges_km,travel_time_cities\", npoints=\"10000,2000\", overwrite = 'True')\n",
    "\n",
    "\n",
    "\n",
    "\n",
    "gs.run_command(\"r.cost\", input=\"roads_travel_time\", output=\"travel_time_cities\", start_points = \"cities\", overwrite = \"True\")\n",
    "\n",
    "\n",
    "#gs.run_command(\"v.to.rast\", input=\"roads_travel_time\", output=\"travel_time_cities\", start_points=\"cities_20000\" )\n",
    "\n",
    "gs.run_command(\"r.futures.potential\",  input=\"sampling\", output=\"potential.csv\", columns=\"counties,devpressure_0_5,slope,road_dens_perc,forest_smooth_perc,dist_to_water_km,dist_to_protected_km,dist_to_interchanges_km,travel_time_cities\", developed_column=\"urban_2011_clip\", subregions_column=\"counties\", overwrite = \"True\")\n",
    "\n",
    "\n",
    "gs.run_command(\"v.to.rast\", input=\"roads\", type=\"line\", output=\"roads_mask\", use=\"val\", overwrite= \"True\")\n",
    "\n",
    "#r.mask roads_mask -i\n",
    "gs.run_command(\"r.mask\", raster=\"roads_mask\", flags = \"i\", overwrite = 'True')\n",
    "\n",
    "#r.futures.demand development=urban_1992,urban_2001,urban_2006 subregions=counties observed_population=/home/rdglpz/evaluation_pga_parameters/population_trend.csv projected_population=/home/rdglpz/evaluation_pga_parameters/population_projection.csv simulation_times=2011,2012,2013,2014,2015,2016,2017,2018,2019,2020,2021,2022,2023,2024,2025,2026,2027,2028,2029,2030,2031,2032,2033,2034,2035 plot=plot_demand.pdf demand=demand.csv separator=comma\n",
    "\n",
    "\n",
    "#r.futures.potential input=sampling output=potential.csv columns=devpressure_0_5,slope,forest_smooth_perc,dist_to_interchanges_km,travel_time_cities developed_column=urban_2011_clip subregions_column=counties --o\n",
    "\n",
    "#r.futures.demand development=urban_2001,urban_2006,urban_2011 subregions=counties observed_population=/home/rdglpz/evaluation_pga_parameters/population_trend.csv projected_population=/home/rdglpz/evaluation_pga_parameters/population_projection.csv simulation_times=2011,2012,2013,2014,2015,2016,2017,2018,2019,2020,2021,2022,2023,2024,2025,2026,2027,2028,2029,2030,2031,2032,2033,2034,2035 plot=plot_demand.pdf demand=demand.csv separator=comma\n",
    "'''\n",
    "r.futures.demand development=urban_2001,urban_2006,urban_2011 subregions=counties observed_population=/home/rdglpz/evaluation_pga_parameters/population_trend.csv projected_population=/home/rdglpz/evaluation_pga_parameters/population_projection.csv simulation_times=2011,2012,2013,2014,2015,2016,2017,2018,2019,2020,2021,2022,2023,2024,2025,2026,2027,2028,2029,2030,2031,2032,2033,2034,2035 plot=plot_demand.pdf demand=demand.csv separator=comma\n",
    "'''\n",
    "\n",
    "'''\n",
    "v.to.rast input=roads output=roads use=val type=line\n",
    "v.to.rast\n",
    "r.cost input=roads_travel_time output=travel_time_cities start_points=cities_20000\n",
    "r.colors map=travel_time_cities color=byr\n",
    "'''\n",
    "\n",
    "\n",
    "'''\n",
    "r.null map=roads_speed null=5\n",
    "r.mapcalc \"\"\n",
    "'''\n",
    "\n",
    "'''\n",
    "r.sample.category input=urban_2011_clip output=sampling sampled=counties,devpressure_0_5,slope,road_dens_perc,forest_smooth_perc,dist_to_water_km,dist_to_protected_km,dist_to_interchanges_km,travel_time_cities npoints=10000,2000 --o\n",
    "'''\n",
    "\n",
    "#v.voronoi input=counties_random_n10b output=vorono_37021\n",
    "\n",
    "#v.to.rast voronoi_37021 out=voronoi_37021_rast use=cat\n",
    "\n",
    "#r.colors voronoi_37021_rast color=random\n",
    "\n",
    "\n",
    "\n",
    "#r.mapcalc \"vor_landuse_conty = if(voronoi_37021_rast == 1 && counties == 37021 , devpressure_0_5_92, 0)\"\n",
    "\n",
    "\n",
    "#gs.run_command(\"r.null\",map=\"protected_areas\",setnull=0)\n",
    "#r.null map=protected_areas setnull=0\n",
    "#r.grow.distance input=protected_areas distance=dist_to_protected\n",
    "#r.colors map=dist_to_protected color=gyr -e\n",
    "               \n",
    "               # Referencias\n",
    "#https://grasswiki.osgeo.org/wiki/Workshop_on_urban_growth_modeling_with_FUTURES\n",
    "#https://grasswiki.osgeo.org/wiki/FUTURES_tutorial"
   ]
  }
 ],
 "metadata": {
  "kernelspec": {
   "display_name": "Python 3 (ipykernel)",
   "language": "python",
   "name": "python3"
  },
  "language_info": {
   "codemirror_mode": {
    "name": "ipython",
    "version": 3
   },
   "file_extension": ".py",
   "mimetype": "text/x-python",
   "name": "python",
   "nbconvert_exporter": "python",
   "pygments_lexer": "ipython3",
   "version": "3.9.15"
  }
 },
 "nbformat": 4,
 "nbformat_minor": 5
}
